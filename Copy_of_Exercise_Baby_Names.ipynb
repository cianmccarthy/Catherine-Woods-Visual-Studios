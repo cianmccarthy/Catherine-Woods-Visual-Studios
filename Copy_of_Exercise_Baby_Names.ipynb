{
  "nbformat": 4,
  "nbformat_minor": 0,
  "metadata": {
    "kernelspec": {
      "name": "python36",
      "display_name": "Python 3.6",
      "language": "python"
    },
    "language_info": {
      "mimetype": "text/x-python",
      "nbconvert_exporter": "python",
      "name": "python",
      "pygments_lexer": "ipython3",
      "version": "3.6.6",
      "file_extension": ".py",
      "codemirror_mode": {
        "version": 3,
        "name": "ipython"
      }
    },
    "colab": {
      "name": "Copy of Exercise - Baby Names.ipynb",
      "provenance": [],
      "collapsed_sections": [],
      "toc_visible": true,
      "include_colab_link": true
    }
  },
  "cells": [
    {
      "cell_type": "markdown",
      "metadata": {
        "id": "view-in-github",
        "colab_type": "text"
      },
      "source": [
        "<a href=\"https://colab.research.google.com/github/cianmccarthy/Catherine-Woods-Visual-Studios/blob/master/Copy_of_Exercise_Baby_Names.ipynb\" target=\"_parent\"><img src=\"https://colab.research.google.com/assets/colab-badge.svg\" alt=\"Open In Colab\"/></a>"
      ]
    },
    {
      "cell_type": "markdown",
      "metadata": {
        "id": "7yj58Eyfrr6_"
      },
      "source": [
        "# US Baby Names 1880-2010"
      ]
    },
    {
      "cell_type": "code",
      "metadata": {
        "id": "GtqzaLMnr0aX",
        "outputId": "d88ea087-1aa5-4c63-e44a-ab37a674edce",
        "colab": {
          "base_uri": "https://localhost:8080/",
          "height": 34
        }
      },
      "source": [
        "from google.colab import drive\n",
        "drive.mount('/content/drive')"
      ],
      "execution_count": 10,
      "outputs": [
        {
          "output_type": "stream",
          "text": [
            "Mounted at /content/drive\n"
          ],
          "name": "stdout"
        }
      ]
    },
    {
      "cell_type": "markdown",
      "metadata": {
        "id": "DHfcTwswrr7G"
      },
      "source": [
        "The baby names datasets are contained in the acompanying folder ./names (or [download here](http://www.ssa.gov/oact/babynames/limits.html)) they contain a list of the most frequent names given to newborn babies in the United States each year.\n",
        "There are many things you might want to do with the dataset:\n",
        "\n",
        "* Visualize the proportion of babies given a particular name (your own, or another name) over time.\n",
        "* Determine the relative rank of a name.\n",
        "* Determine the most popular names in each year or the names with largest increases or decreases.\n",
        "* Analyze trends in names: vowels, consonants, length, overall diversity, changes in spelling, first and last letters.\n",
        "* Analyze external sources of trends: biblical names, celebrities, demographic changes.\n",
        "\n",
        "In this exercise you are tasked with undertaking some analysis. I have started some of the steps for you and I have given some tips on what methods to use.\n"
      ]
    },
    {
      "cell_type": "markdown",
      "metadata": {
        "id": "PIFUCdFgrr7J"
      },
      "source": [
        "## Task 1: Import Data"
      ]
    },
    {
      "cell_type": "markdown",
      "metadata": {
        "id": "OJdLg9mcrr7M"
      },
      "source": [
        "As with most analysis we will need to import some libraries. For this analyis we want to reading the data, perform analysis and visualise the data. therefore the Pandas and matplotlib libraries are needed."
      ]
    },
    {
      "cell_type": "code",
      "metadata": {
        "trusted": true,
        "id": "4bC-N7eCrr7O"
      },
      "source": [
        "import pandas as pd\n",
        "import matplotlib.pyplot as plt"
      ],
      "execution_count": 12,
      "outputs": []
    },
    {
      "cell_type": "markdown",
      "metadata": {
        "id": "8oh8PgSKrr7d"
      },
      "source": [
        "First open a single file 1880 set the field headings to'name', 'sex', 'births' (hint use the pandas read_csv method)"
      ]
    },
    {
      "cell_type": "code",
      "metadata": {
        "trusted": true,
        "id": "Pt_FOcZxrr7f"
      },
      "source": [
        "names1880 = pd.read_csv('/content/drive/My Drive/Data-Analytics-master/Week2/names/yob1880.txt', names=['name', 'sex', 'births'])"
      ],
      "execution_count": 13,
      "outputs": []
    },
    {
      "cell_type": "markdown",
      "metadata": {
        "id": "xZT8FlrSrr7q"
      },
      "source": [
        "Now display the top 5 rows"
      ]
    },
    {
      "cell_type": "code",
      "metadata": {
        "trusted": true,
        "id": "BxpO21aOrr7t",
        "outputId": "3d3a0df1-b7ca-4098-9520-c1d3b83ce9a7",
        "colab": {
          "base_uri": "https://localhost:8080/",
          "height": 195
        }
      },
      "source": [
        "names1880[:5]"
      ],
      "execution_count": 14,
      "outputs": [
        {
          "output_type": "execute_result",
          "data": {
            "text/html": [
              "<div>\n",
              "<style scoped>\n",
              "    .dataframe tbody tr th:only-of-type {\n",
              "        vertical-align: middle;\n",
              "    }\n",
              "\n",
              "    .dataframe tbody tr th {\n",
              "        vertical-align: top;\n",
              "    }\n",
              "\n",
              "    .dataframe thead th {\n",
              "        text-align: right;\n",
              "    }\n",
              "</style>\n",
              "<table border=\"1\" class=\"dataframe\">\n",
              "  <thead>\n",
              "    <tr style=\"text-align: right;\">\n",
              "      <th></th>\n",
              "      <th>name</th>\n",
              "      <th>sex</th>\n",
              "      <th>births</th>\n",
              "    </tr>\n",
              "  </thead>\n",
              "  <tbody>\n",
              "    <tr>\n",
              "      <th>0</th>\n",
              "      <td>Mary</td>\n",
              "      <td>F</td>\n",
              "      <td>7065</td>\n",
              "    </tr>\n",
              "    <tr>\n",
              "      <th>1</th>\n",
              "      <td>Anna</td>\n",
              "      <td>F</td>\n",
              "      <td>2604</td>\n",
              "    </tr>\n",
              "    <tr>\n",
              "      <th>2</th>\n",
              "      <td>Emma</td>\n",
              "      <td>F</td>\n",
              "      <td>2003</td>\n",
              "    </tr>\n",
              "    <tr>\n",
              "      <th>3</th>\n",
              "      <td>Elizabeth</td>\n",
              "      <td>F</td>\n",
              "      <td>1939</td>\n",
              "    </tr>\n",
              "    <tr>\n",
              "      <th>4</th>\n",
              "      <td>Minnie</td>\n",
              "      <td>F</td>\n",
              "      <td>1746</td>\n",
              "    </tr>\n",
              "  </tbody>\n",
              "</table>\n",
              "</div>"
            ],
            "text/plain": [
              "        name sex  births\n",
              "0       Mary   F    7065\n",
              "1       Anna   F    2604\n",
              "2       Emma   F    2003\n",
              "3  Elizabeth   F    1939\n",
              "4     Minnie   F    1746"
            ]
          },
          "metadata": {
            "tags": []
          },
          "execution_count": 14
        }
      ]
    },
    {
      "cell_type": "markdown",
      "metadata": {
        "id": "iPtKDFnarr74"
      },
      "source": [
        "Often datasets span more than one file. \n",
        "\n",
        "In this example each year is in a seperate file, we need to combines all of this year data into a single pandas DataFrame and add a *year* field. Note that all .txt files must be stored as *./names*.\n",
        "\n",
        "This is a little challenging so I have completed this task below, make sure you understand how the code below operates."
      ]
    },
    {
      "cell_type": "code",
      "metadata": {
        "id": "T8_hcJV3vfC_"
      },
      "source": [
        ""
      ],
      "execution_count": null,
      "outputs": []
    },
    {
      "cell_type": "code",
      "metadata": {
        "trusted": true,
        "id": "egTaLmjlrr76"
      },
      "source": [
        "years = range(1880, 2013)\n",
        "pieces = []\n",
        "columns = ['name', 'sex', 'births']\n",
        "\n",
        "for year in years:\n",
        "    path = '/content/drive/My Drive/Data-Analytics-master/Week2/names/yob%d.txt' % year\n",
        "    frame = pd.read_csv(path, names=columns)\n",
        "    frame['year'] = year\n",
        "    pieces.append(frame)\n",
        "\n",
        "# Concatenate everything into a single DataFrame\n",
        "names = pd.concat(pieces, ignore_index=True)\n"
      ],
      "execution_count": 15,
      "outputs": []
    },
    {
      "cell_type": "markdown",
      "metadata": {
        "id": "8GckUuHQrr8I"
      },
      "source": [
        "Now display the first 5 records from the combined dataframe"
      ]
    },
    {
      "cell_type": "code",
      "metadata": {
        "trusted": true,
        "id": "Evz5LWhhrr8J",
        "outputId": "73aa735b-6d07-44ba-97b7-7b6406cbc2de",
        "colab": {
          "base_uri": "https://localhost:8080/",
          "height": 195
        }
      },
      "source": [
        "names[:5]"
      ],
      "execution_count": 16,
      "outputs": [
        {
          "output_type": "execute_result",
          "data": {
            "text/html": [
              "<div>\n",
              "<style scoped>\n",
              "    .dataframe tbody tr th:only-of-type {\n",
              "        vertical-align: middle;\n",
              "    }\n",
              "\n",
              "    .dataframe tbody tr th {\n",
              "        vertical-align: top;\n",
              "    }\n",
              "\n",
              "    .dataframe thead th {\n",
              "        text-align: right;\n",
              "    }\n",
              "</style>\n",
              "<table border=\"1\" class=\"dataframe\">\n",
              "  <thead>\n",
              "    <tr style=\"text-align: right;\">\n",
              "      <th></th>\n",
              "      <th>name</th>\n",
              "      <th>sex</th>\n",
              "      <th>births</th>\n",
              "      <th>year</th>\n",
              "    </tr>\n",
              "  </thead>\n",
              "  <tbody>\n",
              "    <tr>\n",
              "      <th>0</th>\n",
              "      <td>Mary</td>\n",
              "      <td>F</td>\n",
              "      <td>7065</td>\n",
              "      <td>1880</td>\n",
              "    </tr>\n",
              "    <tr>\n",
              "      <th>1</th>\n",
              "      <td>Anna</td>\n",
              "      <td>F</td>\n",
              "      <td>2604</td>\n",
              "      <td>1880</td>\n",
              "    </tr>\n",
              "    <tr>\n",
              "      <th>2</th>\n",
              "      <td>Emma</td>\n",
              "      <td>F</td>\n",
              "      <td>2003</td>\n",
              "      <td>1880</td>\n",
              "    </tr>\n",
              "    <tr>\n",
              "      <th>3</th>\n",
              "      <td>Elizabeth</td>\n",
              "      <td>F</td>\n",
              "      <td>1939</td>\n",
              "      <td>1880</td>\n",
              "    </tr>\n",
              "    <tr>\n",
              "      <th>4</th>\n",
              "      <td>Minnie</td>\n",
              "      <td>F</td>\n",
              "      <td>1746</td>\n",
              "      <td>1880</td>\n",
              "    </tr>\n",
              "  </tbody>\n",
              "</table>\n",
              "</div>"
            ],
            "text/plain": [
              "        name sex  births  year\n",
              "0       Mary   F    7065  1880\n",
              "1       Anna   F    2604  1880\n",
              "2       Emma   F    2003  1880\n",
              "3  Elizabeth   F    1939  1880\n",
              "4     Minnie   F    1746  1880"
            ]
          },
          "metadata": {
            "tags": []
          },
          "execution_count": 16
        }
      ]
    },
    {
      "cell_type": "markdown",
      "metadata": {
        "id": "ugxSBJbVrr8e"
      },
      "source": [
        "## Task 2: Descriptive Statistics\n",
        "\n",
        "Descriptive statistics can give you great insight into the properties of each attribute. Often you can create more summaries than you have time to review. \n",
        "\n",
        "Display the following summary statistics.\n",
        "\n",
        "    Count.\n",
        "    Mean.\n",
        "    Standard Deviation.\n",
        "    Minimum Value.\n",
        "    25th Percentile.\n",
        "    50th Percentile (Median). 75th Percentile.\n",
        "    Maximum Value.\n",
        "\n"
      ]
    },
    {
      "cell_type": "code",
      "metadata": {
        "trusted": true,
        "id": "xS6n-sgkrr8g",
        "outputId": "7dbafc2d-8ec8-45bf-c152-454edd1bdeb6",
        "colab": {
          "base_uri": "https://localhost:8080/",
          "height": 168
        }
      },
      "source": [
        "# Statistical Summary\n",
        "from pandas import read_csv\n",
        "from pandas import set_option\n",
        "filename = \"/content/drive/My Drive/Data-Analytics-master/Week2/names/yob1880.txt\"\n",
        "names = ['Name','Sex','Births'] \n",
        "data = read_csv(filename, names=names)\n",
        "set_option('display.width', 100)\n",
        "set_option('precision', 3)\n",
        "description = data.describe()\n",
        "print(description)"
      ],
      "execution_count": 22,
      "outputs": [
        {
          "output_type": "stream",
          "text": [
            "         Births\n",
            "count  2000.000\n",
            "mean    100.742\n",
            "std     466.108\n",
            "min       5.000\n",
            "25%       7.000\n",
            "50%      13.000\n",
            "75%      41.250\n",
            "max    9655.000\n"
          ],
          "name": "stdout"
        }
      ]
    },
    {
      "cell_type": "code",
      "metadata": {
        "trusted": true,
        "id": "Ip9ihX3x5s0E"
      },
      "source": [
        "\n"
      ],
      "execution_count": null,
      "outputs": []
    },
    {
      "cell_type": "code",
      "metadata": {
        "id": "i5S0O4AfkUN_"
      },
      "source": [
        ""
      ],
      "execution_count": null,
      "outputs": []
    },
    {
      "cell_type": "markdown",
      "metadata": {
        "id": "CVH3-0UCrr8o"
      },
      "source": [
        "## Task 3: Data Aggregation"
      ]
    },
    {
      "cell_type": "markdown",
      "metadata": {
        "id": "_HCKR83Vrr8q"
      },
      "source": [
        "We can now perform several types of aggregation. \n",
        "\n",
        "Create a new DataFrame containing the total number of births per year, split by sex. \n",
        "\n",
        "(Hint use the pivot_table method with the aggragate function sum property)"
      ]
    },
    {
      "cell_type": "code",
      "metadata": {
        "trusted": true,
        "id": "SbI-fSqErr8s"
      },
      "source": [
        "total_births = names.pivot_table('births', 'year', 'sex', aggfunc=sum)"
      ],
      "execution_count": null,
      "outputs": []
    },
    {
      "cell_type": "markdown",
      "metadata": {
        "id": "Lj-Fise6rr80"
      },
      "source": [
        "Now display the first 5 records from the combined dataframe. Hint you can use the head() method."
      ]
    },
    {
      "cell_type": "code",
      "metadata": {
        "trusted": true,
        "id": "7vC__jWUrr81",
        "outputId": "5e0c89eb-6d81-4b95-9641-8d7f3d3a5286",
        "colab": {
          "base_uri": "https://localhost:8080/",
          "height": 238
        }
      },
      "source": [
        "total_births.head()"
      ],
      "execution_count": null,
      "outputs": [
        {
          "output_type": "execute_result",
          "data": {
            "text/html": [
              "<div>\n",
              "<style scoped>\n",
              "    .dataframe tbody tr th:only-of-type {\n",
              "        vertical-align: middle;\n",
              "    }\n",
              "\n",
              "    .dataframe tbody tr th {\n",
              "        vertical-align: top;\n",
              "    }\n",
              "\n",
              "    .dataframe thead th {\n",
              "        text-align: right;\n",
              "    }\n",
              "</style>\n",
              "<table border=\"1\" class=\"dataframe\">\n",
              "  <thead>\n",
              "    <tr style=\"text-align: right;\">\n",
              "      <th>sex</th>\n",
              "      <th>F</th>\n",
              "      <th>M</th>\n",
              "    </tr>\n",
              "    <tr>\n",
              "      <th>year</th>\n",
              "      <th></th>\n",
              "      <th></th>\n",
              "    </tr>\n",
              "  </thead>\n",
              "  <tbody>\n",
              "    <tr>\n",
              "      <th>1880</th>\n",
              "      <td>90993</td>\n",
              "      <td>110491</td>\n",
              "    </tr>\n",
              "    <tr>\n",
              "      <th>1881</th>\n",
              "      <td>91953</td>\n",
              "      <td>100743</td>\n",
              "    </tr>\n",
              "    <tr>\n",
              "      <th>1882</th>\n",
              "      <td>107847</td>\n",
              "      <td>113686</td>\n",
              "    </tr>\n",
              "    <tr>\n",
              "      <th>1883</th>\n",
              "      <td>112319</td>\n",
              "      <td>104627</td>\n",
              "    </tr>\n",
              "    <tr>\n",
              "      <th>1884</th>\n",
              "      <td>129020</td>\n",
              "      <td>114442</td>\n",
              "    </tr>\n",
              "  </tbody>\n",
              "</table>\n",
              "</div>"
            ],
            "text/plain": [
              "sex        F       M\n",
              "year                \n",
              "1880   90993  110491\n",
              "1881   91953  100743\n",
              "1882  107847  113686\n",
              "1883  112319  104627\n",
              "1884  129020  114442"
            ]
          },
          "metadata": {
            "tags": []
          },
          "execution_count": 18
        }
      ]
    },
    {
      "cell_type": "markdown",
      "metadata": {
        "id": "B7wYCJdwrr8-"
      },
      "source": [
        "## Task 4: Data Visualisation"
      ]
    },
    {
      "cell_type": "markdown",
      "metadata": {
        "id": "8UKbbMuIrr8_"
      },
      "source": [
        "Using the *plot* function draw a figure to illustrate this DataFrame. \n",
        "\n",
        "Plot the genders in 2 seperate lines with year on the X axis and the number of births on the Y axis, Don't forget a title and axis labels."
      ]
    },
    {
      "cell_type": "code",
      "metadata": {
        "trusted": true,
        "id": "u8wZTRSPrr9B",
        "outputId": "3ee24e3f-0061-420e-dccf-52e553236740",
        "colab": {
          "base_uri": "https://localhost:8080/",
          "height": 368
        }
      },
      "source": [
        "total_births.plot(figsize=(10,5),title='Total births by sex and year')"
      ],
      "execution_count": null,
      "outputs": [
        {
          "output_type": "execute_result",
          "data": {
            "text/plain": [
              "<matplotlib.axes._subplots.AxesSubplot at 0x7f5387d7b6d8>"
            ]
          },
          "metadata": {
            "tags": []
          },
          "execution_count": 19
        },
        {
          "output_type": "display_data",
          "data": {
            "image/png": "[encoded data removed]",
            "text/plain": [
              "<Figure size 720x360 with 1 Axes>"
            ]
          },
          "metadata": {
            "tags": [],
            "needs_background": "light"
          }
        }
      ]
    },
    {
      "cell_type": "markdown",
      "metadata": {
        "id": "3Nc9U7CWrr9J"
      },
      "source": [
        "## Task 5: More Data Aggregation"
      ]
    },
    {
      "cell_type": "markdown",
      "metadata": {
        "id": "9ybjmxGerr9L"
      },
      "source": [
        "Now we would like to analyse how frequently the names *John*, *Michael*, *Mary*, *Mark*,*Jeremy* and *Amelia* occurr over time."
      ]
    },
    {
      "cell_type": "markdown",
      "metadata": {
        "id": "U9RJvlhOrr9M"
      },
      "source": [
        "Redefine *total_births*, this time aggregating data by *name* rather than *sex*.\n",
        "\n",
        "Then define the subset of names that we are interested\n",
        "\n",
        "Finally plot each name in its own graph."
      ]
    },
    {
      "cell_type": "code",
      "metadata": {
        "trusted": true,
        "id": "n3-hN25yrr9O",
        "outputId": "ec64829d-5e54-4d04-f71d-f1f44585b991",
        "colab": {
          "base_uri": "https://localhost:8080/",
          "height": 1000
        }
      },
      "source": [
        "total_births = names.pivot_table('births', 'year', 'name', aggfunc=sum)\n",
        "subset = total_births[['John', 'Michael', 'Mary', 'Mark','Jeremy','Amelia']]\n",
        "subset.plot(subplots=True, figsize=(15, 17), grid=False,title=\"Number of births per year\")"
      ],
      "execution_count": null,
      "outputs": [
        {
          "output_type": "execute_result",
          "data": {
            "text/plain": [
              "array([<matplotlib.axes._subplots.AxesSubplot object at 0x7f5387d02390>,\n",
              "       <matplotlib.axes._subplots.AxesSubplot object at 0x7f538783e9b0>,\n",
              "       <matplotlib.axes._subplots.AxesSubplot object at 0x7f53877ee9b0>,\n",
              "       <matplotlib.axes._subplots.AxesSubplot object at 0x7f53877a29b0>,\n",
              "       <matplotlib.axes._subplots.AxesSubplot object at 0x7f53877539b0>,\n",
              "       <matplotlib.axes._subplots.AxesSubplot object at 0x7f53877099b0>],\n",
              "      dtype=object)"
            ]
          },
          "metadata": {
            "tags": []
          },
          "execution_count": 20
        },
        {
          "output_type": "display_data",
          "data": {
            "image/png": "[encoded data removed]",
            "text/plain": [
              "<Figure size 1080x1224 with 6 Axes>"
            ]
          },
          "metadata": {
            "tags": [],
            "needs_background": "light"
          }
        }
      ]
    },
    {
      "cell_type": "markdown",
      "metadata": {
        "id": "3vFaL8Bcrr92"
      },
      "source": [
        "## Task 6: Data Distrabution"
      ]
    },
    {
      "cell_type": "markdown",
      "metadata": {
        "id": "_gbEHuqarr94"
      },
      "source": [
        "Next we need to look at how the distribution of boy names by final letter has changed over the last 100 years. \n",
        "\n",
        "To see this, first aggregate all of the births in the full dataset by year, sex, and final letter.\n",
        "\n",
        "(This is a bit tricky so I have done some of the difficult bits)"
      ]
    },
    {
      "cell_type": "code",
      "metadata": {
        "trusted": true,
        "id": "QMgGATWjrr96"
      },
      "source": [
        "# extract last letter from name column\n",
        "get_last_letter = lambda x: x[-1]\n",
        "last_letters = names.name.map(get_last_letter)\n",
        "last_letters.name = 'last_letter'\n",
        "table = names.pivot_table('births',last_letters,['sex', 'year'], aggfunc=sum)\n"
      ],
      "execution_count": null,
      "outputs": []
    },
    {
      "cell_type": "markdown",
      "metadata": {
        "id": "OvCF71Yprr-B"
      },
      "source": [
        "Then we select a few representative years 1912, 1962, 2012, spanning 100 years in total, display the first 5 records in a table:\n",
        "\n",
        "(Hint: use the reindex method https://pandas.pydata.org/pandas-docs/stable/reference/api/pandas.DataFrame.reindex.html)"
      ]
    },
    {
      "cell_type": "code",
      "metadata": {
        "trusted": true,
        "id": "vu_pAIt2rr-B",
        "outputId": "a17677fc-e05c-43ac-e381-fa62b868ece7",
        "colab": {
          "base_uri": "https://localhost:8080/",
          "height": 270
        }
      },
      "source": [
        "subtable = table.reindex(columns=[1912, 1962, 2012], level='year')\n",
        "subtable.head()"
      ],
      "execution_count": null,
      "outputs": [
        {
          "output_type": "execute_result",
          "data": {
            "text/html": [
              "<div>\n",
              "<style scoped>\n",
              "    .dataframe tbody tr th:only-of-type {\n",
              "        vertical-align: middle;\n",
              "    }\n",
              "\n",
              "    .dataframe tbody tr th {\n",
              "        vertical-align: top;\n",
              "    }\n",
              "\n",
              "    .dataframe thead tr th {\n",
              "        text-align: left;\n",
              "    }\n",
              "\n",
              "    .dataframe thead tr:last-of-type th {\n",
              "        text-align: right;\n",
              "    }\n",
              "</style>\n",
              "<table border=\"1\" class=\"dataframe\">\n",
              "  <thead>\n",
              "    <tr>\n",
              "      <th>sex</th>\n",
              "      <th colspan=\"3\" halign=\"left\">F</th>\n",
              "      <th colspan=\"3\" halign=\"left\">M</th>\n",
              "    </tr>\n",
              "    <tr>\n",
              "      <th>year</th>\n",
              "      <th>1912</th>\n",
              "      <th>1962</th>\n",
              "      <th>2012</th>\n",
              "      <th>1912</th>\n",
              "      <th>1962</th>\n",
              "      <th>2012</th>\n",
              "    </tr>\n",
              "    <tr>\n",
              "      <th>last_letter</th>\n",
              "      <th></th>\n",
              "      <th></th>\n",
              "      <th></th>\n",
              "      <th></th>\n",
              "      <th></th>\n",
              "      <th></th>\n",
              "    </tr>\n",
              "  </thead>\n",
              "  <tbody>\n",
              "    <tr>\n",
              "      <th>a</th>\n",
              "      <td>149178.0</td>\n",
              "      <td>682541.0</td>\n",
              "      <td>654517.0</td>\n",
              "      <td>1655.0</td>\n",
              "      <td>5331.0</td>\n",
              "      <td>27201.0</td>\n",
              "    </tr>\n",
              "    <tr>\n",
              "      <th>b</th>\n",
              "      <td>NaN</td>\n",
              "      <td>459.0</td>\n",
              "      <td>471.0</td>\n",
              "      <td>923.0</td>\n",
              "      <td>3458.0</td>\n",
              "      <td>34706.0</td>\n",
              "    </tr>\n",
              "    <tr>\n",
              "      <th>c</th>\n",
              "      <td>NaN</td>\n",
              "      <td>73.0</td>\n",
              "      <td>1235.0</td>\n",
              "      <td>1053.0</td>\n",
              "      <td>17881.0</td>\n",
              "      <td>24268.0</td>\n",
              "    </tr>\n",
              "    <tr>\n",
              "      <th>d</th>\n",
              "      <td>10523.0</td>\n",
              "      <td>3673.0</td>\n",
              "      <td>2530.0</td>\n",
              "      <td>54090.0</td>\n",
              "      <td>249996.0</td>\n",
              "      <td>42457.0</td>\n",
              "    </tr>\n",
              "    <tr>\n",
              "      <th>e</th>\n",
              "      <td>180522.0</td>\n",
              "      <td>424745.0</td>\n",
              "      <td>320528.0</td>\n",
              "      <td>54716.0</td>\n",
              "      <td>164952.0</td>\n",
              "      <td>128430.0</td>\n",
              "    </tr>\n",
              "  </tbody>\n",
              "</table>\n",
              "</div>"
            ],
            "text/plain": [
              "sex                 F                            M                    \n",
              "year             1912      1962      2012     1912      1962      2012\n",
              "last_letter                                                           \n",
              "a            149178.0  682541.0  654517.0   1655.0    5331.0   27201.0\n",
              "b                 NaN     459.0     471.0    923.0    3458.0   34706.0\n",
              "c                 NaN      73.0    1235.0   1053.0   17881.0   24268.0\n",
              "d             10523.0    3673.0    2530.0  54090.0  249996.0   42457.0\n",
              "e            180522.0  424745.0  320528.0  54716.0  164952.0  128430.0"
            ]
          },
          "metadata": {
            "tags": []
          },
          "execution_count": 23
        }
      ]
    },
    {
      "cell_type": "markdown",
      "metadata": {
        "id": "V0V63UrYrr-J"
      },
      "source": [
        "Now, we normalize the table by the number of births, so as to obtain the proportion of total births for each sex ending in each letter: \n",
        "\n",
        "There are functions in python for normalisation but we haven't covered them yet. Here we will just simply divide each value by the aggragated sum for that table. i.e. divide each subtable by the total "
      ]
    },
    {
      "cell_type": "code",
      "metadata": {
        "trusted": true,
        "id": "kwssFDufrr-L",
        "outputId": "0b7d5a22-6b12-4891-ca55-e1a8e3cb24d1",
        "colab": {
          "base_uri": "https://localhost:8080/",
          "height": 270
        }
      },
      "source": [
        "letter_prop = subtable / subtable.sum().astype(float)\n",
        "letter_prop.head()"
      ],
      "execution_count": null,
      "outputs": [
        {
          "output_type": "execute_result",
          "data": {
            "text/html": [
              "<div>\n",
              "<style scoped>\n",
              "    .dataframe tbody tr th:only-of-type {\n",
              "        vertical-align: middle;\n",
              "    }\n",
              "\n",
              "    .dataframe tbody tr th {\n",
              "        vertical-align: top;\n",
              "    }\n",
              "\n",
              "    .dataframe thead tr th {\n",
              "        text-align: left;\n",
              "    }\n",
              "\n",
              "    .dataframe thead tr:last-of-type th {\n",
              "        text-align: right;\n",
              "    }\n",
              "</style>\n",
              "<table border=\"1\" class=\"dataframe\">\n",
              "  <thead>\n",
              "    <tr>\n",
              "      <th>sex</th>\n",
              "      <th colspan=\"3\" halign=\"left\">F</th>\n",
              "      <th colspan=\"3\" halign=\"left\">M</th>\n",
              "    </tr>\n",
              "    <tr>\n",
              "      <th>year</th>\n",
              "      <th>1912</th>\n",
              "      <th>1962</th>\n",
              "      <th>2012</th>\n",
              "      <th>1912</th>\n",
              "      <th>1962</th>\n",
              "      <th>2012</th>\n",
              "    </tr>\n",
              "    <tr>\n",
              "      <th>last_letter</th>\n",
              "      <th></th>\n",
              "      <th></th>\n",
              "      <th></th>\n",
              "      <th></th>\n",
              "      <th></th>\n",
              "      <th></th>\n",
              "    </tr>\n",
              "  </thead>\n",
              "  <tbody>\n",
              "    <tr>\n",
              "      <th>a</th>\n",
              "      <td>0.267288</td>\n",
              "      <td>0.347073</td>\n",
              "      <td>0.372450</td>\n",
              "      <td>0.003849</td>\n",
              "      <td>0.002577</td>\n",
              "      <td>0.014368</td>\n",
              "    </tr>\n",
              "    <tr>\n",
              "      <th>b</th>\n",
              "      <td>NaN</td>\n",
              "      <td>0.000233</td>\n",
              "      <td>0.000268</td>\n",
              "      <td>0.002147</td>\n",
              "      <td>0.001672</td>\n",
              "      <td>0.018333</td>\n",
              "    </tr>\n",
              "    <tr>\n",
              "      <th>c</th>\n",
              "      <td>NaN</td>\n",
              "      <td>0.000037</td>\n",
              "      <td>0.000703</td>\n",
              "      <td>0.002449</td>\n",
              "      <td>0.008644</td>\n",
              "      <td>0.012819</td>\n",
              "    </tr>\n",
              "    <tr>\n",
              "      <th>d</th>\n",
              "      <td>0.018854</td>\n",
              "      <td>0.001868</td>\n",
              "      <td>0.001440</td>\n",
              "      <td>0.125806</td>\n",
              "      <td>0.120849</td>\n",
              "      <td>0.022427</td>\n",
              "    </tr>\n",
              "    <tr>\n",
              "      <th>e</th>\n",
              "      <td>0.323448</td>\n",
              "      <td>0.215983</td>\n",
              "      <td>0.182395</td>\n",
              "      <td>0.127262</td>\n",
              "      <td>0.079738</td>\n",
              "      <td>0.067840</td>\n",
              "    </tr>\n",
              "  </tbody>\n",
              "</table>\n",
              "</div>"
            ],
            "text/plain": [
              "sex                 F                             M                    \n",
              "year             1912      1962      2012      1912      1962      2012\n",
              "last_letter                                                            \n",
              "a            0.267288  0.347073  0.372450  0.003849  0.002577  0.014368\n",
              "b                 NaN  0.000233  0.000268  0.002147  0.001672  0.018333\n",
              "c                 NaN  0.000037  0.000703  0.002449  0.008644  0.012819\n",
              "d            0.018854  0.001868  0.001440  0.125806  0.120849  0.022427\n",
              "e            0.323448  0.215983  0.182395  0.127262  0.079738  0.067840"
            ]
          },
          "metadata": {
            "tags": []
          },
          "execution_count": 24
        }
      ]
    },
    {
      "cell_type": "markdown",
      "metadata": {
        "id": "qLEdax-hrr-V"
      },
      "source": [
        "Finally make <b>bar plots</b> for each sex broken-down by year\n"
      ]
    },
    {
      "cell_type": "code",
      "metadata": {
        "trusted": true,
        "id": "UDsDV7_Prr-W",
        "outputId": "85d3417a-8347-46d1-e8ee-6368aff6de4c",
        "colab": {
          "base_uri": "https://localhost:8080/",
          "height": 640
        }
      },
      "source": [
        "fig, axes = plt.subplots(2, 1, figsize=(11, 10))\n",
        "letter_prop['M'].plot(kind='bar', rot=0, ax=axes[0], title='Male')\n",
        "letter_prop['F'].plot(kind='bar', rot=0, ax=axes[1], title='Female',legend=False)\n"
      ],
      "execution_count": null,
      "outputs": [
        {
          "output_type": "execute_result",
          "data": {
            "text/plain": [
              "<matplotlib.axes._subplots.AxesSubplot at 0x7f5384b0aeb8>"
            ]
          },
          "metadata": {
            "tags": []
          },
          "execution_count": 25
        },
        {
          "output_type": "display_data",
          "data": {
            "image/png": "[encoded data removed]",
            "text/plain": [
              "<Figure size 792x720 with 2 Axes>"
            ]
          },
          "metadata": {
            "tags": [],
            "needs_background": "light"
          }
        }
      ]
    }
  ]
}